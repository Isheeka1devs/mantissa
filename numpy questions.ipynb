{
 "cells": [
  {
   "cell_type": "code",
   "execution_count": 1,
   "id": "35134e18",
   "metadata": {},
   "outputs": [
    {
     "name": "stdout",
     "output_type": "stream",
     "text": [
      "[[ 1  2  3  4  5]\n",
      " [ 6  7  8  9 10]\n",
      " [11 12 13 14 15]\n",
      " [16 17 18 19 20]\n",
      " [21 22 23 24 25]]\n"
     ]
    }
   ],
   "source": [
    "# 1. Create a 5×5 matrix with values 1 to 25\n",
    "import numpy as np\n",
    "matrix_5x5 = np.arange(1, 26).reshape(5, 5)\n",
    "print(matrix_5x5)"
   ]
  },
  {
   "cell_type": "code",
   "execution_count": 2,
   "id": "4a090f24",
   "metadata": {},
   "outputs": [
    {
     "name": "stdout",
     "output_type": "stream",
     "text": [
      "[[1. 0. 0. 0.]\n",
      " [0. 1. 0. 0.]\n",
      " [0. 0. 1. 0.]\n",
      " [0. 0. 0. 1.]]\n"
     ]
    }
   ],
   "source": [
    "# 2. Generate a 4×4 identity matrix\n",
    "import numpy as np\n",
    "identity_4x4 = np.eye(4)\n",
    "print(identity_4x4)"
   ]
  },
  {
   "cell_type": "code",
   "execution_count": 3,
   "id": "2b5abc0c",
   "metadata": {},
   "outputs": [
    {
     "name": "stdout",
     "output_type": "stream",
     "text": [
      "[100 110 120 130 140 150 160 170 180 190 200]\n"
     ]
    }
   ],
   "source": [
    "# 3. Create 1D array from 100 to 200 with step 10\n",
    "import numpy as np\n",
    "arr_100_200 = np.arange(100, 201, 10)\n",
    "print(arr_100_200)"
   ]
  },
  {
   "cell_type": "code",
   "execution_count": 4,
   "id": "0f161eec",
   "metadata": {},
   "outputs": [
    {
     "name": "stdout",
     "output_type": "stream",
     "text": [
      "[[0.81067425 0.41353932 0.42119426]\n",
      " [0.99129668 0.54308309 0.64595287]\n",
      " [0.61070738 0.18075117 0.9453707 ]]\n",
      "Determinant: 0.032924905353011964\n"
     ]
    }
   ],
   "source": [
    "# 4. Random 3×3 matrix and its determinant\n",
    "import numpy as np\n",
    "rand_3x3 = np.random.rand(3, 3)\n",
    "determinant = np.linalg.det(rand_3x3)\n",
    "print(rand_3x3)\n",
    "print(\"Determinant:\", determinant)"
   ]
  },
  {
   "cell_type": "code",
   "execution_count": 5,
   "id": "9ef0e7f9",
   "metadata": {},
   "outputs": [
    {
     "name": "stdout",
     "output_type": "stream",
     "text": [
      "[94 18  7 12 46 94 26  4  2 56]\n"
     ]
    }
   ],
   "source": [
    "# 5. Array of 10 random integers between 1 and 100\n",
    "import numpy as np\n",
    "rand_ints = np.random.randint(1, 101, 10)\n",
    "print(rand_ints)"
   ]
  },
  {
   "cell_type": "code",
   "execution_count": 6,
   "id": "f2080a22",
   "metadata": {},
   "outputs": [
    {
     "name": "stdout",
     "output_type": "stream",
     "text": [
      "[[ 0  1  2  3]\n",
      " [ 4  5  6  7]\n",
      " [ 8  9 10 11]]\n"
     ]
    }
   ],
   "source": [
    "# 6. Reshape 1D array of size 12 into 3×4 matrix\n",
    "import numpy as np\n",
    "arr_12 = np.arange(12)\n",
    "reshaped_3x4 = arr_12.reshape(3, 4)\n",
    "print(reshaped_3x4)"
   ]
  },
  {
   "cell_type": "code",
   "execution_count": 7,
   "id": "3fa40014",
   "metadata": {},
   "outputs": [
    {
     "name": "stdout",
     "output_type": "stream",
     "text": [
      "[[9 7 2]\n",
      " [7 2 7]\n",
      " [5 1 8]]\n",
      "[[3 6 8]\n",
      " [5 3 6]\n",
      " [2 6 4]]\n",
      "[[ 66  87 122]\n",
      " [ 45  90  96]\n",
      " [ 36  81  78]]\n"
     ]
    }
   ],
   "source": [
    "# 7. Matrix multiplication of two 3×3 matrices\n",
    "import numpy as np\n",
    "A = np.random.randint(1, 10, (3, 3))\n",
    "B = np.random.randint(1, 10, (3, 3))\n",
    "product = np.dot(A, B)\n",
    "print(A)\n",
    "print(B)\n",
    "print(product)"
   ]
  },
  {
   "cell_type": "code",
   "execution_count": 8,
   "id": "90fce750",
   "metadata": {},
   "outputs": [
    {
     "name": "stdout",
     "output_type": "stream",
     "text": [
      "Eigenvalues: [5. 2.]\n",
      "Eigenvectors:\n",
      " [[ 0.89442719 -0.70710678]\n",
      " [ 0.4472136   0.70710678]]\n"
     ]
    }
   ],
   "source": [
    "# 8. Eigenvalues and eigenvectors of 2×2 matrix\n",
    "import numpy as np\n",
    "mat_2x2 = np.array([[4, 2], [1, 3]])\n",
    "eigvals, eigvecs = np.linalg.eig(mat_2x2)\n",
    "print(\"Eigenvalues:\", eigvals)\n",
    "print(\"Eigenvectors:\\n\", eigvecs)"
   ]
  },
  {
   "cell_type": "code",
   "execution_count": 9,
   "id": "3a06133f",
   "metadata": {},
   "outputs": [
    {
     "name": "stdout",
     "output_type": "stream",
     "text": [
      "[[0.26473525 0.47662393 0.86913712 0.4754903  0.46166404]\n",
      " [0.7443781  0.85537375 0.39049633 0.02424144 0.83536307]\n",
      " [0.36134835 0.78197453 0.24072023 0.38791268 0.18752403]\n",
      " [0.60388754 0.77840962 0.01143979 0.30939619 0.84735863]\n",
      " [0.60392114 0.45425661 0.9542058  0.69487999 0.56821143]]\n",
      "Diagonal: [0.26473525 0.85537375 0.24072023 0.30939619 0.56821143]\n"
     ]
    }
   ],
   "source": [
    "# 9. 5×5 matrix with random values and extract diagonal\n",
    "import numpy as np\n",
    "rand_5x5 = np.random.rand(5, 5)\n",
    "diag_elements = np.diag(rand_5x5)\n",
    "print(rand_5x5)\n",
    "print(\"Diagonal:\", diag_elements)"
   ]
  },
  {
   "cell_type": "code",
   "execution_count": 10,
   "id": "79d7e7e8",
   "metadata": {},
   "outputs": [
    {
     "name": "stdout",
     "output_type": "stream",
     "text": [
      "[0.   0.25 0.5  0.75 1.  ]\n"
     ]
    }
   ],
   "source": [
    "# 10. Normalize 1D array (scale between 0 and 1)\n",
    "import numpy as np\n",
    "arr = np.array([10, 20, 30, 40, 50])\n",
    "normalized = (arr - arr.min()) / (arr.max() - arr.min())\n",
    "print(normalized)"
   ]
  },
  {
   "cell_type": "code",
   "execution_count": 11,
   "id": "9a298509",
   "metadata": {},
   "outputs": [
    {
     "name": "stdout",
     "output_type": "stream",
     "text": [
      "Sorted by row:\n",
      " [[1 2 3]\n",
      " [4 5 6]]\n",
      "Sorted by column:\n",
      " [[3 2 1]\n",
      " [6 5 4]]\n"
     ]
    }
   ],
   "source": [
    "# 11. Sort NumPy array by row and column\n",
    "import numpy as np\n",
    "arr_2d = np.array([[3, 2, 1], [6, 5, 4]])\n",
    "sorted_by_row = np.sort(arr_2d, axis=1)\n",
    "sorted_by_col = np.sort(arr_2d, axis=0)\n",
    "print(\"Sorted by row:\\n\", sorted_by_row)\n",
    "print(\"Sorted by column:\\n\", sorted_by_col)"
   ]
  },
  {
   "cell_type": "code",
   "execution_count": 12,
   "id": "0fee905f",
   "metadata": {},
   "outputs": [
    {
     "name": "stdout",
     "output_type": "stream",
     "text": [
      "Max index: 3\n",
      "Min index: 0\n"
     ]
    }
   ],
   "source": [
    "# 12. Indices of max and min values in array\n",
    "import numpy as np\n",
    "arr = np.array([1, 3, 2, 7, 5])\n",
    "max_idx = np.argmax(arr)\n",
    "min_idx = np.argmin(arr)\n",
    "print(\"Max index:\", max_idx)\n",
    "print(\"Min index:\", min_idx)"
   ]
  },
  {
   "cell_type": "code",
   "execution_count": 13,
   "id": "2982eca9",
   "metadata": {},
   "outputs": [
    {
     "name": "stdout",
     "output_type": "stream",
     "text": [
      "[1 2 3 4]\n",
      "[1 2 3 4]\n"
     ]
    }
   ],
   "source": [
    "# 13. Flatten 2D array using ravel() and flatten()\n",
    "import numpy as np\n",
    "arr_2d = np.array([[1, 2], [3, 4]])\n",
    "flat_ravel = arr_2d.ravel()\n",
    "flat_flatten = arr_2d.flatten()\n",
    "print(flat_ravel)\n",
    "print(flat_flatten)"
   ]
  },
  {
   "cell_type": "code",
   "execution_count": 14,
   "id": "ecd65c09",
   "metadata": {},
   "outputs": [
    {
     "name": "stdout",
     "output_type": "stream",
     "text": [
      "[[-24.  18.   5.]\n",
      " [ 20. -15.  -4.]\n",
      " [ -5.   4.   1.]]\n"
     ]
    }
   ],
   "source": [
    "# 14. Inverse of 3×3 matrix\n",
    "import numpy as np\n",
    "mat_3x3 = np.array([[1, 2, 3], [0, 1, 4], [5, 6, 0]])\n",
    "inv_mat = np.linalg.inv(mat_3x3)\n",
    "print(inv_mat)"
   ]
  },
  {
   "cell_type": "code",
   "execution_count": 15,
   "id": "aa07ea3c",
   "metadata": {},
   "outputs": [
    {
     "name": "stdout",
     "output_type": "stream",
     "text": [
      "[10  1  4  6  9  2  7  5  3  8]\n"
     ]
    }
   ],
   "source": [
    "# 15. Random permutation of numbers 1 to 10\n",
    "import numpy as np\n",
    "perm = np.random.permutation(np.arange(1, 11))\n",
    "print(perm)"
   ]
  },
  {
   "cell_type": "code",
   "execution_count": 16,
   "id": "b7601480",
   "metadata": {},
   "outputs": [
    {
     "name": "stdout",
     "output_type": "stream",
     "text": [
      "[-1  1 -1  3 -1  5 -1  7 -1  9 -1 11 -1 13 -1 15 -1 17 -1 19 -1]\n"
     ]
    }
   ],
   "source": [
    "# 16. Replace even numbers with -1 in array 0 to 20\n",
    "import numpy as np\n",
    "arr = np.arange(21)\n",
    "arr[arr % 2 == 0] = -1\n",
    "print(arr)"
   ]
  },
  {
   "cell_type": "code",
   "execution_count": 17,
   "id": "c98b3f9c",
   "metadata": {},
   "outputs": [
    {
     "name": "stdout",
     "output_type": "stream",
     "text": [
      "32\n"
     ]
    }
   ],
   "source": [
    "# 17. Dot product of two arrays\n",
    "import numpy as np\n",
    "a = np.array([1, 2, 3])\n",
    "b = np.array([4, 5, 6])\n",
    "dot_product = np.dot(a, b)\n",
    "print(dot_product)"
   ]
  },
  {
   "cell_type": "code",
   "execution_count": 18,
   "id": "07126ca7",
   "metadata": {},
   "outputs": [
    {
     "name": "stdout",
     "output_type": "stream",
     "text": [
      "3.6399009775921556\n"
     ]
    }
   ],
   "source": [
    "# 18. 5×5 random matrix and its trace\n",
    "import numpy as np\n",
    "rand_5x5 = np.random.rand(5, 5)\n",
    "trace_val = np.trace(rand_5x5)\n",
    "print(trace_val)"
   ]
  },
  {
   "cell_type": "code",
   "execution_count": 19,
   "id": "a641b523",
   "metadata": {},
   "outputs": [
    {
     "name": "stdout",
     "output_type": "stream",
     "text": [
      "[array([0, 1, 2]), array([3, 4, 5]), array([6, 7, 8])]\n"
     ]
    }
   ],
   "source": [
    "# 19. Split 1D array into 3 equal parts\n",
    "import numpy as np\n",
    "arr = np.arange(9)\n",
    "split_arr = np.array_split(arr, 3)\n",
    "print(split_arr)"
   ]
  },
  {
   "cell_type": "code",
   "execution_count": 20,
   "id": "0739dc9f",
   "metadata": {},
   "outputs": [
    {
     "name": "stdout",
     "output_type": "stream",
     "text": [
      "[[0.34550762 0.51294788 0.74036947]\n",
      " [0.33639839 0.43734031 0.78579043]\n",
      " [0.67038252 0.62226397 0.74122342]]\n"
     ]
    }
   ],
   "source": [
    "# 20. 3D array (3,3,3) and mean across axis=0\n",
    "import numpy as np\n",
    "arr_3d = np.random.rand(3, 3, 3)\n",
    "mean_axis0 = arr_3d.mean(axis=0)\n",
    "print(mean_axis0)"
   ]
  },
  {
   "cell_type": "code",
   "execution_count": 21,
   "id": "ec86635d",
   "metadata": {},
   "outputs": [
    {
     "name": "stdout",
     "output_type": "stream",
     "text": [
      "[ 1  3  6 10]\n"
     ]
    }
   ],
   "source": [
    "# 21. Cumulative sum of array\n",
    "import numpy as np\n",
    "arr = np.array([1, 2, 3, 4])\n",
    "cumsum = np.cumsum(arr)\n",
    "print(cumsum)"
   ]
  },
  {
   "cell_type": "code",
   "execution_count": 22,
   "id": "e324aab3",
   "metadata": {},
   "outputs": [
    {
     "name": "stdout",
     "output_type": "stream",
     "text": [
      "[[7 2 3 7]\n",
      " [0 8 8 9]\n",
      " [0 0 2 7]\n",
      " [0 0 0 4]]\n"
     ]
    }
   ],
   "source": [
    "# 22. 4×4 random integers and upper triangular matrix\n",
    "import numpy as np\n",
    "rand_ints = np.random.randint(1, 10, (4, 4))\n",
    "upper_tri = np.triu(rand_ints)\n",
    "print(upper_tri)"
   ]
  },
  {
   "cell_type": "code",
   "execution_count": 23,
   "id": "e8685942",
   "metadata": {},
   "outputs": [
    {
     "name": "stdout",
     "output_type": "stream",
     "text": [
      "[[0 1 0 1 0 1]\n",
      " [1 0 1 0 1 0]\n",
      " [0 1 0 1 0 1]\n",
      " [1 0 1 0 1 0]\n",
      " [0 1 0 1 0 1]\n",
      " [1 0 1 0 1 0]]\n"
     ]
    }
   ],
   "source": [
    "# 23. 6×6 checkerboard pattern matrix\n",
    "import numpy as np\n",
    "checkerboard = np.indices((6, 6)).sum(axis=0) % 2\n",
    "print(checkerboard)"
   ]
  },
  {
   "cell_type": "code",
   "execution_count": 24,
   "id": "bc7ce492",
   "metadata": {},
   "outputs": [
    {
     "name": "stdout",
     "output_type": "stream",
     "text": [
      "[[1.9757039  2.4197141  2.87415843]\n",
      " [2.43005622 0.23010952 1.84103376]\n",
      " [2.99983348 2.47416828 0.56418723]]\n"
     ]
    }
   ],
   "source": [
    "# 24. 3×3 random matrix and element-wise sqrt\n",
    "import numpy as np\n",
    "rand_3x3 = np.random.rand(3, 3) * 10\n",
    "sqrt_mat = np.sqrt(rand_3x3)\n",
    "print(sqrt_mat)"
   ]
  },
  {
   "cell_type": "code",
   "execution_count": 25,
   "id": "05e0dc7c",
   "metadata": {},
   "outputs": [
    {
     "name": "stdout",
     "output_type": "stream",
     "text": [
      "[19 18 17 16 15 14 13 12 11 10  9  8  7  6  5  4  3  2  1  0]\n"
     ]
    }
   ],
   "source": [
    "# 25. Reverse 1D array of 20 elements without slicing\n",
    "import numpy as np\n",
    "arr = np.arange(20)\n",
    "reversed_arr = np.flip(arr)\n",
    "print(reversed_arr)"
   ]
  },
  {
   "cell_type": "code",
   "execution_count": 26,
   "id": "a2d6dd71",
   "metadata": {},
   "outputs": [
    {
     "name": "stdout",
     "output_type": "stream",
     "text": [
      "[[1 2]\n",
      " [3 4]\n",
      " [5 6]\n",
      " [7 8]]\n",
      "[[1 2 5 6]\n",
      " [3 4 7 8]]\n"
     ]
    }
   ],
   "source": [
    "# 26. Merge two arrays vertically and horizontally\n",
    "import numpy as np\n",
    "a = np.array([[1, 2], [3, 4]])\n",
    "b = np.array([[5, 6], [7, 8]])\n",
    "vertical_merge = np.vstack((a, b))\n",
    "horizontal_merge = np.hstack((a, b))\n",
    "print(vertical_merge)\n",
    "print(horizontal_merge)"
   ]
  },
  {
   "cell_type": "code",
   "execution_count": 27,
   "id": "6a3fc072",
   "metadata": {},
   "outputs": [
    {
     "name": "stdout",
     "output_type": "stream",
     "text": [
      "Row sum: [3 7]\n",
      "Column sum: [4 6]\n"
     ]
    }
   ],
   "source": [
    "# 27. 2D array row-wise and column-wise sum\n",
    "import numpy as np\n",
    "arr_2d = np.array([[1, 2], [3, 4]])\n",
    "row_sum = arr_2d.sum(axis=1)\n",
    "col_sum = arr_2d.sum(axis=0)\n",
    "print(\"Row sum:\", row_sum)\n",
    "print(\"Column sum:\", col_sum)"
   ]
  },
  {
   "cell_type": "code",
   "execution_count": 28,
   "id": "7b902b64",
   "metadata": {},
   "outputs": [
    {
     "name": "stdout",
     "output_type": "stream",
     "text": [
      "[[1.  2.  7.5]\n",
      " [4.  5.  6. ]\n",
      " [7.  8.  9. ]]\n"
     ]
    }
   ],
   "source": [
    "# 28. Replace NaN with column mean\n",
    "import numpy as np\n",
    "arr = np.array([[1, 2, np.nan], [4, np.nan, 6], [7, 8, 9]])\n",
    "col_mean = np.nanmean(arr, axis=0)\n",
    "inds = np.where(np.isnan(arr))\n",
    "arr[inds] = np.take(col_mean, inds[1])\n",
    "print(arr)"
   ]
  },
  {
   "cell_type": "code",
   "execution_count": 29,
   "id": "4532ca7c",
   "metadata": {},
   "outputs": [
    {
     "name": "stdout",
     "output_type": "stream",
     "text": [
      "0.9746318461970762\n"
     ]
    }
   ],
   "source": [
    "# 29. Cosine similarity of two 1D arrays\n",
    "import numpy as np\n",
    "a = np.array([1, 2, 3])\n",
    "b = np.array([4, 5, 6])\n",
    "cos_sim = np.dot(a, b) / (np.linalg.norm(a) * np.linalg.norm(b))\n",
    "print(cos_sim)"
   ]
  },
  {
   "cell_type": "code",
   "execution_count": 30,
   "id": "8e54526f",
   "metadata": {},
   "outputs": [
    {
     "name": "stdout",
     "output_type": "stream",
     "text": [
      "[[ 3  7 11 15]\n",
      " [ 2  6 10 14]\n",
      " [ 1  5  9 13]\n",
      " [ 0  4  8 12]]\n"
     ]
    }
   ],
   "source": [
    "# 30. Rotate 4×4 array by 90 degrees\n",
    "import numpy as np\n",
    "arr_4x4 = np.arange(16).reshape(4, 4)\n",
    "rotated = np.rot90(arr_4x4)\n",
    "print(rotated)"
   ]
  },
  {
   "cell_type": "code",
   "execution_count": 31,
   "id": "9edb6c9d",
   "metadata": {},
   "outputs": [
    {
     "name": "stdout",
     "output_type": "stream",
     "text": [
      "[('Alice', 25, 88.5) ('Bob', 22, 92. )]\n"
     ]
    }
   ],
   "source": [
    "# 31. Structured array with fields (name, age, marks)\n",
    "import numpy as np\n",
    "dtype = [('name', 'U10'), ('age', 'i4'), ('marks', 'f4')]\n",
    "values = [('Alice', 25, 88.5), ('Bob', 22, 92.0)]\n",
    "structured_arr = np.array(values, dtype=dtype)\n",
    "print(structured_arr)"
   ]
  },
  {
   "cell_type": "code",
   "execution_count": 32,
   "id": "d18c9d26",
   "metadata": {},
   "outputs": [
    {
     "name": "stdout",
     "output_type": "stream",
     "text": [
      "3\n"
     ]
    }
   ],
   "source": [
    "# 32. Rank of random 3×3 matrix\n",
    "import numpy as np\n",
    "rand_3x3 = np.random.rand(3, 3)\n",
    "rank = np.linalg.matrix_rank(rand_3x3)\n",
    "print(rank)"
   ]
  },
  {
   "cell_type": "code",
   "execution_count": 33,
   "id": "43687c70",
   "metadata": {},
   "outputs": [
    {
     "name": "stdout",
     "output_type": "stream",
     "text": [
      "[[0.04876962 0.12545468 0.28378956 0.22128634 0.92324346]\n",
      " [0.79475666 0.41967102 0.20999625 0.11550291 0.36714948]\n",
      " [0.41941738 0.38782135 0.58421453 0.48228735 0.31587332]\n",
      " [0.49682039 0.56640955 0.12838455 0.47135487 0.44010422]\n",
      " [0.44381532 0.22119263 0.24768292 0.81984659 0.14354973]]\n"
     ]
    }
   ],
   "source": [
    "# 33. Normalize each row of 5×5 random matrix to unit length\n",
    "import numpy as np\n",
    "rand_5x5 = np.random.rand(5, 5)\n",
    "norms = np.linalg.norm(rand_5x5, axis=1, keepdims=True)\n",
    "normalized_rows = rand_5x5 / norms\n",
    "print(normalized_rows)"
   ]
  },
  {
   "cell_type": "code",
   "execution_count": 34,
   "id": "23fb9d87",
   "metadata": {},
   "outputs": [
    {
     "name": "stdout",
     "output_type": "stream",
     "text": [
      "[ True  True False]\n"
     ]
    }
   ],
   "source": [
    "# 34. Check element-wise equality of two arrays\n",
    "import numpy as np\n",
    "a = np.array([1, 2, 3])\n",
    "b = np.array([1, 2, 4])\n",
    "equal_elements = np.equal(a, b)\n",
    "print(equal_elements)"
   ]
  },
  {
   "cell_type": "code",
   "execution_count": 35,
   "id": "f05b4131",
   "metadata": {},
   "outputs": [
    {
     "name": "stdout",
     "output_type": "stream",
     "text": [
      "[ 13  35  99 216 239 199 119  54  19   7]\n",
      "[-2.93312115 -2.30792632 -1.6827315  -1.05753667 -0.43234184  0.19285299\n",
      "  0.81804782  1.44324264  2.06843747  2.6936323   3.31882713]\n"
     ]
    }
   ],
   "source": [
    "# 35. Histogram of 1000 random numbers\n",
    "import numpy as np\n",
    "data = np.random.randn(1000)\n",
    "hist, bin_edges = np.histogram(data, bins=10)\n",
    "print(hist)\n",
    "print(bin_edges)"
   ]
  },
  {
   "cell_type": "code",
   "execution_count": 36,
   "id": "f0d40992",
   "metadata": {},
   "outputs": [
    {
     "name": "stdout",
     "output_type": "stream",
     "text": [
      "[[11 22 33]\n",
      " [14 25 36]]\n"
     ]
    }
   ],
   "source": [
    "# 36. Add 1D array to 2D array using broadcasting\n",
    "import numpy as np\n",
    "arr_2d = np.array([[1, 2, 3], [4, 5, 6]])\n",
    "arr_1d = np.array([10, 20, 30])\n",
    "result = arr_2d + arr_1d\n",
    "print(result)"
   ]
  },
  {
   "cell_type": "code",
   "execution_count": 37,
   "id": "17c56556",
   "metadata": {},
   "outputs": [
    {
     "name": "stdout",
     "output_type": "stream",
     "text": [
      "[1 2 3]\n",
      "[1 2 3]\n"
     ]
    }
   ],
   "source": [
    "# 37. Unique values and counts in array\n",
    "import numpy as np\n",
    "arr = np.array([1, 2, 2, 3, 3, 3])\n",
    "unique_vals, counts = np.unique(arr, return_counts=True)\n",
    "print(unique_vals)\n",
    "print(counts)"
   ]
  },
  {
   "cell_type": "code",
   "execution_count": 38,
   "id": "4b1f657c",
   "metadata": {},
   "outputs": [
    {
     "name": "stdout",
     "output_type": "stream",
     "text": [
      "1.0\n"
     ]
    }
   ],
   "source": [
    "# 38. Pearson correlation coefficient of two arrays\n",
    "import numpy as np\n",
    "a = np.array([1, 2, 3, 4])\n",
    "b = np.array([2, 4, 6, 8])\n",
    "corr_coef = np.corrcoef(a, b)[0, 1]\n",
    "print(corr_coef)"
   ]
  },
  {
   "cell_type": "code",
   "execution_count": 39,
   "id": "253f881d",
   "metadata": {},
   "outputs": [
    {
     "name": "stdout",
     "output_type": "stream",
     "text": [
      "[1.  1.5 2.5 3.5 4. ]\n"
     ]
    }
   ],
   "source": [
    "# 39. Numerical gradient of 1D array\n",
    "import numpy as np\n",
    "arr = np.array([1, 2, 4, 7, 11])\n",
    "gradient = np.gradient(arr)\n",
    "print(gradient)"
   ]
  },
  {
   "cell_type": "code",
   "execution_count": 40,
   "id": "fd3dbdf3",
   "metadata": {},
   "outputs": [
    {
     "name": "stdout",
     "output_type": "stream",
     "text": [
      "U:\n",
      " [[-0.4260137   0.48738422  0.76221319]\n",
      " [-0.63085366  0.44385412 -0.6364096 ]\n",
      " [-0.64848746 -0.75196419  0.11838018]]\n",
      "S: [2.30323569 0.32319115 0.12958828]\n",
      "Vt:\n",
      " [[-0.63459341 -0.52896198 -0.56346289]\n",
      " [-0.16548694 -0.61916172  0.76762806]\n",
      " [ 0.75492071 -0.58037746 -0.30537964]]\n"
     ]
    }
   ],
   "source": [
    "# 40. SVD of random 3×3 matrix\n",
    "import numpy as np\n",
    "rand_3x3 = np.random.rand(3, 3)\n",
    "U, S, Vt = np.linalg.svd(rand_3x3)\n",
    "print(\"U:\\n\", U)\n",
    "print(\"S:\", S)\n",
    "print(\"Vt:\\n\", Vt)"
   ]
  }
 ],
 "metadata": {
  "kernelspec": {
   "display_name": "Python 3",
   "language": "python",
   "name": "python3"
  },
  "language_info": {
   "codemirror_mode": {
    "name": "ipython",
    "version": 3
   },
   "file_extension": ".py",
   "mimetype": "text/x-python",
   "name": "python",
   "nbconvert_exporter": "python",
   "pygments_lexer": "ipython3",
   "version": "3.12.4"
  }
 },
 "nbformat": 4,
 "nbformat_minor": 5
}
